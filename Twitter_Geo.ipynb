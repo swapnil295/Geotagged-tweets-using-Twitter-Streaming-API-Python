{
 "cells": [
  {
   "cell_type": "code",
   "execution_count": null,
   "metadata": {},
   "outputs": [
    {
     "name": "stdout",
     "output_type": "stream",
     "text": [
      "You're connected to the streaming server.\n"
     ]
    }
   ],
   "source": [
    "# -*- coding: utf-8 -*-\n",
    "\"\"\"\n",
    "Created on Sat Aug  8 16:48:46 2020\n",
    "\n",
    "@author: user1\n",
    "\"\"\"\n",
    "import tweepy\n",
    "from tweepy import Stream\n",
    "from tweepy.streaming import StreamListener \n",
    "from tweepy import OAuthHandler\n",
    "import json\n",
    "from pymongo import MongoClient\n",
    "import pandas as pd\n",
    "import sys\n",
    "\n",
    "class StreamListener(tweepy.StreamListener):\n",
    "    \"\"\"tweepy.StreamListener is a class provided by tweepy used to access\n",
    "    the Twitter Streaming API to collect tweets in real-time.\n",
    "    \"\"\"\n",
    "\n",
    "    def on_connect(self):\n",
    "        \"\"\"Called when the connection is made\"\"\"\n",
    "        print(\"You're connected to the streaming server.\")\n",
    "\n",
    "    def on_error(self, status_code):\n",
    "        \"\"\"This is called when an error occurs\"\"\"\n",
    "        print('Error: ' + repr(status_code))\n",
    "        return False\n",
    "\n",
    "    def on_data(self, data):\n",
    "        \"\"\"This will be called each time we receive stream data\"\"\"\n",
    "        client = MongoClient()\n",
    "\n",
    "        # I stored the tweet data in a database called 'training_tweets' in MongoDB, if \n",
    "        # 'training_tweets' does not exist it will be created for you.\n",
    "        db = client.bengaluru15\n",
    "\n",
    "        # Decode JSON\n",
    "        datajson = json.loads(data)\n",
    "\n",
    "        # I'm only storing tweets in English. I stored the data for these tweets in a collection \n",
    "        # called 'training_tweets_collection' of the 'training_tweets' database.\n",
    "        if \"lang\" in datajson and datajson[\"lang\"] == \"en\":\n",
    "            db.bengaluru_col.insert_one(datajson)\n",
    "\n",
    "\n",
    "if __name__ == \"__main__\":\n",
    "\n",
    "    # These are provided to you through the Twitter API after you create a account\n",
    "    consumer_key = \"oXlMIIvJaNXOSOXCMAGW6kpkl\"\n",
    "    consumer_secret = \"4bYVRKeEViTt7fwzrxwEKS26UVKVQotRgCavx0FF9cWVfhvHhI\"\n",
    "    access_token = \"1249305586660823040-aoy6uKUYGkTrLZMIPgVKoQbjtAXkrs\"\n",
    "    access_token_secret = \"659B2jWYzz4niFGlMT0YXWqoDB5WUCjBfUnkMCmFWvX4Z\"\n",
    "\n",
    "    auth1 = tweepy.OAuthHandler(consumer_key, consumer_secret)\n",
    "    auth1.set_access_token(access_token, access_token_secret,)\n",
    "\n",
    "\n",
    "    # LOCATIONS are the longitude, latitude coordinate corners for a box that restricts the \n",
    "    # geographic area from which you will stream tweets. The first two define the southwest\n",
    "    # corner of the box and the second two define the northeast corner of the box. \n",
    "    LOCATIONS = [77.401137, 12.776971, 77.78503, 13.19671] \n",
    "\n",
    "    stream_listener = StreamListener(api=tweepy.API(wait_on_rate_limit=True))\n",
    "    stream = tweepy.Stream(auth=auth1, listener=stream_listener)\n",
    "    stream.filter(locations=LOCATIONS)"
   ]
  },
  {
   "cell_type": "code",
   "execution_count": null,
   "metadata": {},
   "outputs": [],
   "source": []
  },
  {
   "cell_type": "code",
   "execution_count": null,
   "metadata": {},
   "outputs": [],
   "source": []
  }
 ],
 "metadata": {
  "kernelspec": {
   "display_name": "Python 3",
   "language": "python",
   "name": "python3"
  },
  "language_info": {
   "codemirror_mode": {
    "name": "ipython",
    "version": 3
   },
   "file_extension": ".py",
   "mimetype": "text/x-python",
   "name": "python",
   "nbconvert_exporter": "python",
   "pygments_lexer": "ipython3",
   "version": "3.7.4"
  }
 },
 "nbformat": 4,
 "nbformat_minor": 2
}
